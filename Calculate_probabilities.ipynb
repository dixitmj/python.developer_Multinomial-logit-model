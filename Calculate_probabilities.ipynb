{
  "nbformat": 4,
  "nbformat_minor": 0,
  "metadata": {
    "colab": {
      "provenance": [],
      "authorship_tag": "ABX9TyPCzllrqAgt3fcHei0MMOlG",
      "include_colab_link": true
    },
    "kernelspec": {
      "name": "python3",
      "display_name": "Python 3"
    },
    "language_info": {
      "name": "python"
    }
  },
  "cells": [
    {
      "cell_type": "markdown",
      "metadata": {
        "id": "view-in-github",
        "colab_type": "text"
      },
      "source": [
        "<a href=\"https://colab.research.google.com/github/dixitmj/python.developer_Multinomial-logit-model/blob/main/Calculate_probabilities.ipynb\" target=\"_parent\"><img src=\"https://colab.research.google.com/assets/colab-badge.svg\" alt=\"Open In Colab\"/></a>"
      ]
    },
    {
      "cell_type": "code",
      "source": [
        "# Importing necessary libraries and defining calclulate_probabilites\n",
        "import math\n",
        "\n",
        "def calculate_probabilities(coefficients, data, utilities):\n",
        "    probabilities = []\n",
        "\n",
        "    for i in range(len(data['X1'])):\n",
        "        V1 = utilities[0](coefficients['beta01'], coefficients['beta1'], coefficients['beta2'], data['X1'][i], data['X2'][i], data['Y1'][i])\n",
        "        V2 = utilities[1](coefficients['beta02'], coefficients['beta1'], coefficients['beta2'], data['X1'][i], data['X2'][i], data['Y1'][i])\n",
        "        V3 = utilities[2](coefficients['beta03'], coefficients['beta1'], coefficients['beta2'], data['X1'][i], data['X2'][i], data['Y1'][i])\n",
        "\n",
        "        denominator = math.exp(V1) + math.exp(V2) + math.exp(V3)\n",
        "\n",
        "        P1 = math.exp(V1) / denominator\n",
        "        P2 = math.exp(V2) / denominator\n",
        "        P3 = math.exp(V3) / denominator\n",
        "\n",
        "        probabilities.append((P1, P2, P3))\n",
        "\n",
        "    return probabilities"
      ],
      "metadata": {
        "id": "gu0DbMF90Dvh"
      },
      "execution_count": 1,
      "outputs": []
    },
    {
      "cell_type": "code",
      "source": [
        "# Defining the independent variables\n",
        "data = {\n",
        "    'X1': [7, 3, 2, 8, 5, 9, 0, 1, 2, 9],\n",
        "    'X2': [3, 7, 1, 6, 2, 5, 2, 8, 7, 3],\n",
        "    'Y1': [0, 0, 0, 0, 0, 1, 1, 1, 1, 1]\n",
        "}"
      ],
      "metadata": {
        "id": "wmMKM8t4F8xb"
      },
      "execution_count": 14,
      "outputs": []
    },
    {
      "cell_type": "code",
      "source": [
        "# Defining the beta  Coefficient\n",
        "coefficients = {\n",
        "    'beta01': 0.6,\n",
        "    'beta1': 0.3,\n",
        "    'beta2': 0.9,\n",
        "    'beta02': 0,\n",
        "    'beta03': 0\n",
        "}"
      ],
      "metadata": {
        "id": "jWyOV-k5F86n"
      },
      "execution_count": 15,
      "outputs": []
    },
    {
      "cell_type": "code",
      "source": [
        "# Define the utility functions\n",
        "utilities = [\n",
        "    lambda beta01, beta1, beta2, X1, X2, Y1: beta01 + beta1*X1 + beta2*X2,\n",
        "    lambda beta02, beta1, beta2, X1, X2, Y1: beta02 + beta1*X1 + beta2*X2,\n",
        "    lambda beta03, beta1, beta2, X1, X2, Y1: beta03 + beta1*Y1 + beta2*Y1\n",
        "]"
      ],
      "metadata": {
        "id": "QoRQ_vCWF9GB"
      },
      "execution_count": 16,
      "outputs": []
    },
    {
      "cell_type": "code",
      "source": [
        "# Caluclate the probabilites and printing the output\n",
        "probabilities = calculate_probabilities(coefficients, data, utilities)\n",
        "print(probabilities)\n"
      ],
      "metadata": {
        "colab": {
          "base_uri": "https://localhost:8080/"
        },
        "id": "VlX-Yc26GIve",
        "outputId": "821c1f6b-fa77-47dc-8ea3-b84577748d71"
      },
      "execution_count": 17,
      "outputs": [
        {
          "output_type": "stream",
          "name": "stdout",
          "text": [
            "[(0.6437789444833167, 0.35331337580477457, 0.002907679711908646), (0.6454855443334029, 0.3542499776606579, 0.0002644780059392031), (0.5983480575814846, 0.3283803764349772, 0.07327156598353814), (0.6455625789278268, 0.35429225514245977, 0.0001451659297134969), (0.6373268787212089, 0.3497724070376856, 0.012900714241105619), (0.6450897044552245, 0.35403273612948355, 0.0008775594152921044), (0.5405388318516456, 0.29665400068085557, 0.16280716746749874), (0.6452364618177622, 0.354113278277727, 0.0006502599045107567), (0.6448917085836157, 0.353924073691246, 0.001184217725138427), (0.6422436878211921, 0.35247080908420975, 0.005285503094598196)]\n"
          ]
        }
      ]
    }
  ]
}