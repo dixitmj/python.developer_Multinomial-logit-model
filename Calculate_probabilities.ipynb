{
  "nbformat": 4,
  "nbformat_minor": 0,
  "metadata": {
    "colab": {
      "provenance": [],
      "authorship_tag": "ABX9TyMhgJw7bADpyT/5aLoxzgDS",
      "include_colab_link": true
    },
    "kernelspec": {
      "name": "python3",
      "display_name": "Python 3"
    },
    "language_info": {
      "name": "python"
    }
  },
  "cells": [
    {
      "cell_type": "markdown",
      "metadata": {
        "id": "view-in-github",
        "colab_type": "text"
      },
      "source": [
        "<a href=\"https://colab.research.google.com/github/dixitmj/python.developer_Multinomial-logit-model/blob/main/Calculate_probabilities.ipynb\" target=\"_parent\"><img src=\"https://colab.research.google.com/assets/colab-badge.svg\" alt=\"Open In Colab\"/></a>"
      ]
    },
    {
      "cell_type": "code",
      "source": [
        "# Importing necessary libraries and defining calclulate_probabilites\n",
        "import math\n",
        "\n",
        "def calculate_probabilities(coefficients, data, utilities):\n",
        "    probabilities = []\n",
        "\n",
        "    for i in range(len(data['X1'])):\n",
        "        V1 = utilities[0](coefficients['beta01'], coefficients['beta1'], coefficients['beta2'], data['X1'][i], data['X2'][i], data['X3'][i])\n",
        "        V2 = utilities[1](coefficients['beta02'], coefficients['beta1'], coefficients['beta2'], data['X1'][i], data['X2'][i], data['X3'][i])\n",
        "        V3 = utilities[2](coefficients['beta03'], coefficients['beta1'], coefficients['beta2'], data['X1'][i], data['X2'][i], data['X3'][i])\n",
        "\n",
        "        denominator = math.exp(V1) + math.exp(V2) + math.exp(V3)\n",
        "\n",
        "        P1 = math.exp(V1) / denominator\n",
        "        P2 = math.exp(V2) / denominator\n",
        "        P3 = math.exp(V3) / denominator\n",
        "\n",
        "        probabilities.append((P1, P2, P3))\n",
        "\n",
        "    return probabilities"
      ],
      "metadata": {
        "id": "gu0DbMF90Dvh"
      },
      "execution_count": 62,
      "outputs": []
    },
    {
      "cell_type": "code",
      "source": [
        "# Defining the independent variables\n",
        "data = {\n",
        "    'X1': [7, 3, 2, 8, 5, 9, 0, 1, 2, 9],\n",
        "    'X2': [3, 7, 1, 6, 2, 5, 2, 8, 7, 3],\n",
        "    'X3': [1, 6, 3, 6, 7, 0, 2, 5, 3, 9]\n",
        "}"
      ],
      "metadata": {
        "id": "wmMKM8t4F8xb"
      },
      "execution_count": 67,
      "outputs": []
    },
    {
      "cell_type": "code",
      "source": [
        "# Defining the beta  Coefficient\n",
        "coefficients = {\n",
        "    'beta01': 0.6,\n",
        "    'beta1': 0.5,\n",
        "    'beta2': 0.7,\n",
        "    'beta02': 1,\n",
        "    'beta03': 0\n",
        "}"
      ],
      "metadata": {
        "id": "jWyOV-k5F86n"
      },
      "execution_count": 68,
      "outputs": []
    },
    {
      "cell_type": "code",
      "source": [
        "# Define the utility functions\n",
        "utilities = [\n",
        "    lambda beta01, beta1, beta2, X1, X2, X3: beta01 + beta1*X1 + beta2*X2,\n",
        "    lambda beta02, beta1, beta2, X1, X2, X3: beta02 + beta1*X1 + beta2*X2,\n",
        "    lambda beta03, beta1, beta2, X1, X2, X3: beta03 + beta1*X3 + beta2*X3\n",
        "]"
      ],
      "metadata": {
        "id": "QoRQ_vCWF9GB"
      },
      "execution_count": 69,
      "outputs": []
    },
    {
      "cell_type": "code",
      "source": [
        "# Caluclate the probabilites and printing the output\n",
        "probabilities = calculate_probabilities(coefficients, data, utilities)\n",
        "print(probabilities)\n"
      ],
      "metadata": {
        "colab": {
          "base_uri": "https://localhost:8080/"
        },
        "id": "VlX-Yc26GIve",
        "outputId": "efe329dc-c76e-4de5-e74d-ea1562eba5a9"
      },
      "execution_count": 70,
      "outputs": [
        {
          "output_type": "stream",
          "name": "stdout",
          "text": [
            "[(0.40023010915699503, 0.597073161580067, 0.0026967292629380252), (0.269307499177738, 0.4017595785333555, 0.32893292228890664), (0.16230811579828638, 0.242135255775503, 0.5955566284262106), (0.37123366523433005, 0.5538155503924652, 0.07495078437320482), (0.019269948815410297, 0.02874738556511223, 0.9519826656194774), (0.4012826915465221, 0.5986434299850657, 7.387846841223482e-05), (0.25102610716299617, 0.3744869464185019, 0.3744869464185019), (0.3346261053605722, 0.4992034884524117, 0.16617040618701606), (0.39264221198727456, 0.5857533491791151, 0.0216044388336103), (0.025581951574562122, 0.03816378717279477, 0.9362542612526431)]\n"
          ]
        }
      ]
    }
  ]
}